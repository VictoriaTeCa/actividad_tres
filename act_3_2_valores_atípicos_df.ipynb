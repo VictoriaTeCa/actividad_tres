{
  "nbformat": 4,
  "nbformat_minor": 0,
  "metadata": {
    "colab": {
      "provenance": [],
      "collapsed_sections": [
        "7AOufH2cASfG"
      ],
      "authorship_tag": "ABX9TyN1vtGIiKTf1nPyMTNhj9ew",
      "include_colab_link": true
    },
    "kernelspec": {
      "name": "python3",
      "display_name": "Python 3"
    },
    "language_info": {
      "name": "python"
    }
  },
  "cells": [
    {
      "cell_type": "markdown",
      "metadata": {
        "id": "view-in-github",
        "colab_type": "text"
      },
      "source": [
        "<a href=\"https://colab.research.google.com/github/VictoriaTeCa/actividad_tres/blob/main/act_3_2_valores_at%C3%ADpicos_df.ipynb\" target=\"_parent\"><img src=\"https://colab.research.google.com/assets/colab-badge.svg\" alt=\"Open In Colab\"/></a>"
      ]
    },
    {
      "cell_type": "code",
      "source": [
        "#IMPORTAR LIBRERIAS\n",
        "import pandas as pd\n",
        "import numpy as np\n",
        "import matplotlib.pyplot as plt"
      ],
      "metadata": {
        "id": "LP3TAhtG5JUo"
      },
      "execution_count": 1,
      "outputs": []
    },
    {
      "cell_type": "code",
      "source": [
        "#CARGAR ARCHIVOS\n",
        "from google.colab import files\n",
        "files.upload()"
      ],
      "metadata": {
        "id": "y_siHg0H5OdY"
      },
      "execution_count": null,
      "outputs": []
    },
    {
      "cell_type": "markdown",
      "source": [
        "# **2020**"
      ],
      "metadata": {
        "id": "7AOufH2cASfG"
      }
    },
    {
      "cell_type": "code",
      "execution_count": null,
      "metadata": {
        "id": "1S6Dn-xV47en"
      },
      "outputs": [],
      "source": [
        "#cargamos un archivo desde un libro con varias páginas\n",
        "df_2020=pd.read_excel('Gastos y costos 20-23.xlsx', sheet_name='2020', skiprows=5)\n",
        "df_2020"
      ]
    },
    {
      "cell_type": "markdown",
      "source": [
        "Lo primero que tenemos que hacer, es separar las columnas de texto y numéricas"
      ],
      "metadata": {
        "id": "K9xXf7Eg5jBH"
      }
    },
    {
      "cell_type": "code",
      "source": [
        "#INFORMACION DEL DATAFRAME\n",
        "df_2020.info()"
      ],
      "metadata": {
        "id": "ueLH6Wa65oTr"
      },
      "execution_count": null,
      "outputs": []
    },
    {
      "cell_type": "code",
      "source": [
        "#ELIMINAR COLUMNAS de texto\n",
        "#FILTRO POR COLUMNAS\n",
        "cuantitativas2020=df_2020.iloc[:,[8,9,10,11,12,13,14,18]]\n",
        "cualititativas2020=df_2020.iloc[:,[0,1,2,3,4,5,6,7,15,16,17]]"
      ],
      "metadata": {
        "id": "6xhsQwsi6nKl"
      },
      "execution_count": 61,
      "outputs": []
    },
    {
      "cell_type": "code",
      "source": [
        "#IDENTIFICAR VALORES NULOS\n",
        "valores_nulos2020=cuantitativas2020.isnull().sum()\n",
        "valores_nulos2020"
      ],
      "metadata": {
        "id": "ndBu2Ey65ocB",
        "colab": {
          "base_uri": "https://localhost:8080/"
        },
        "outputId": "9da4bd98-9a61-4f7c-c99b-40fdf660edd2"
      },
      "execution_count": 62,
      "outputs": [
        {
          "output_type": "execute_result",
          "data": {
            "text/plain": [
              "TC           391\n",
              "IMPORTE       34\n",
              "IVA          268\n",
              "RET ISR        0\n",
              "RET IVA        0\n",
              "TOTAL MX       0\n",
              "TOTAL SAT      0\n",
              "Columna1       0\n",
              "dtype: int64"
            ]
          },
          "metadata": {},
          "execution_count": 62
        }
      ]
    },
    {
      "cell_type": "code",
      "source": [
        "#REMPLAZAR LOS DATOS NULOS EN AMBOS DF\n",
        "cuantitativas2020_1=cuantitativas2020.fillna(method=\"bfill\")\n",
        "cuanLitativas2020_1=cualititativas2020.fillna(method=\"ffill\")\n",
        "cuanLitativas2020_1['POLIZA']=cuanLitativas2020_1['POLIZA'].fillna('PE01-ENE20')\n",
        "\n",
        "#IDENTIFICAR VALORES NULOS\n",
        "valores_nulos2020_1=cuantitativas2020_1.isnull().sum()\n",
        "print(valores_nulos2020_1)\n",
        "\n",
        "#IDENTIFICAR VALORES NULOS\n",
        "valores_nulos2020_1_1=cuanLitativas2020_1.isnull().sum()\n",
        "valores_nulos2020_1_1"
      ],
      "metadata": {
        "id": "3r3qH2MY9OBN"
      },
      "execution_count": null,
      "outputs": []
    },
    {
      "cell_type": "code",
      "source": [
        "#REALIZAMOS DIAGRAMA DE CAJA O BIGOTE DE CADA COLUMNA DEL DATAFRAME\n",
        "fig = plt.figure(figsize=(5,3))\n",
        "cuantitativas2020_1.plot(kind='box',vert=False)\n",
        "plt.title('Valores atípicos 2020')\n",
        "plt.show()"
      ],
      "metadata": {
        "id": "jt1r4d9Y9eI2"
      },
      "execution_count": null,
      "outputs": []
    },
    {
      "cell_type": "code",
      "source": [
        "#método aplicando desviación estándar. encuentro los valores extremos\n",
        "y=cuantitativas2020_1\n",
        "Limite_Superior= y.mean() + 3*y.std()\n",
        "Limite_Inferior= y.mean() - 3*y.std()\n",
        "print('Límite superior permitido: ', Limite_Superior)\n",
        "print('Límite inferior permitido: ', Limite_Inferior)\n",
        "\n",
        "#encontramos outliers del dataframe\n",
        "outliers=cuantitativas2020_1[(y<Limite_Superior)|(y<Limite_Inferior)]\n",
        "\n",
        "#obtenemos datos y los outliers se convierten en nulos en el dataframe\n",
        "cuantitativas2020_2=cuantitativas2020_1[(y<=Limite_Superior)&(y>=Limite_Inferior)]"
      ],
      "metadata": {
        "id": "bptMSjOI9o-L",
        "colab": {
          "base_uri": "https://localhost:8080/"
        },
        "outputId": "82426be6-fa23-4fc1-bb25-bbb01aa7f7a1"
      },
      "execution_count": 65,
      "outputs": [
        {
          "output_type": "stream",
          "name": "stdout",
          "text": [
            "Límite superior permitido:  TC               4.239688\n",
            "IMPORTE      25212.063736\n",
            "IVA           5206.165867\n",
            "RET ISR        667.271992\n",
            "RET IVA        958.239955\n",
            "TOTAL MX     28488.002843\n",
            "TOTAL SAT    33250.398514\n",
            "Columna1     14626.999268\n",
            "dtype: float64\n",
            "Límite inferior permitido:  TC              -2.129870\n",
            "IMPORTE     -18928.758033\n",
            "IVA          -4129.109781\n",
            "RET ISR       -627.750813\n",
            "RET IVA       -839.215179\n",
            "TOTAL MX    -21455.655297\n",
            "TOTAL SAT   -25762.462834\n",
            "Columna1    -14171.411134\n",
            "dtype: float64\n"
          ]
        }
      ]
    },
    {
      "cell_type": "code",
      "source": [
        "#corroboramos\n",
        "valores_nulos2020_2=cuantitativas2020_1.isnull().sum()\n",
        "valores_nulos2020_2"
      ],
      "metadata": {
        "id": "tlbSRuIL-T6E",
        "colab": {
          "base_uri": "https://localhost:8080/"
        },
        "outputId": "c6637570-7e75-46de-d006-2fa19db11329"
      },
      "execution_count": 66,
      "outputs": [
        {
          "output_type": "execute_result",
          "data": {
            "text/plain": [
              "TC           0\n",
              "IMPORTE      0\n",
              "IVA          0\n",
              "RET ISR      0\n",
              "RET IVA      0\n",
              "TOTAL MX     0\n",
              "TOTAL SAT    0\n",
              "Columna1     0\n",
              "dtype: int64"
            ]
          },
          "metadata": {},
          "execution_count": 66
        }
      ]
    },
    {
      "cell_type": "code",
      "source": [
        "#reemplazamos los valores ahora nulos con la media\n",
        "data_clean2020=cuantitativas2020_1.copy()\n",
        "data_clean2020=data_clean2020.fillna(round(cuantitativas2020_1.mean(),1))"
      ],
      "metadata": {
        "id": "4GARlyAd-bj7"
      },
      "execution_count": 67,
      "outputs": []
    },
    {
      "cell_type": "code",
      "source": [
        "#corroboramos\n",
        "valores_nulos2020_3=data_clean2020.isnull().sum()\n",
        "valores_nulos2020_3"
      ],
      "metadata": {
        "id": "iFv1sKAA-lnc",
        "colab": {
          "base_uri": "https://localhost:8080/"
        },
        "outputId": "4b10e551-b54e-45a1-b13b-533d138c5e35"
      },
      "execution_count": 68,
      "outputs": [
        {
          "output_type": "execute_result",
          "data": {
            "text/plain": [
              "TC           0\n",
              "IMPORTE      0\n",
              "IVA          0\n",
              "RET ISR      0\n",
              "RET IVA      0\n",
              "TOTAL MX     0\n",
              "TOTAL SAT    0\n",
              "Columna1     0\n",
              "dtype: int64"
            ]
          },
          "metadata": {},
          "execution_count": 68
        }
      ]
    },
    {
      "cell_type": "code",
      "source": [
        "#unimos la columa 'indice_tiempo' con el df\n",
        "#la quitamos para poder hacer el procesamiento\n",
        "Datos_limpios2020=pd.concat([cuanLitativas2020_1, data_clean2020], axis=1)\n",
        "Datos_limpios2020"
      ],
      "metadata": {
        "id": "3kXmQ6sR-uU0"
      },
      "execution_count": null,
      "outputs": []
    },
    {
      "cell_type": "code",
      "source": [
        "#convertimos df a csv\n",
        "Datos_limpios2020.to_csv('Datos_limpios2020.csv')\n",
        "\n",
        "#descargamos csv\n",
        "from google.colab import files\n",
        "files.download('Datos_limpios2020.csv')"
      ],
      "metadata": {
        "colab": {
          "base_uri": "https://localhost:8080/",
          "height": 17
        },
        "id": "zC0qZfsdFkDD",
        "outputId": "e8dd065d-3302-4e8a-e589-c8ef825a172d"
      },
      "execution_count": 70,
      "outputs": [
        {
          "output_type": "display_data",
          "data": {
            "text/plain": [
              "<IPython.core.display.Javascript object>"
            ],
            "application/javascript": [
              "\n",
              "    async function download(id, filename, size) {\n",
              "      if (!google.colab.kernel.accessAllowed) {\n",
              "        return;\n",
              "      }\n",
              "      const div = document.createElement('div');\n",
              "      const label = document.createElement('label');\n",
              "      label.textContent = `Downloading \"${filename}\": `;\n",
              "      div.appendChild(label);\n",
              "      const progress = document.createElement('progress');\n",
              "      progress.max = size;\n",
              "      div.appendChild(progress);\n",
              "      document.body.appendChild(div);\n",
              "\n",
              "      const buffers = [];\n",
              "      let downloaded = 0;\n",
              "\n",
              "      const channel = await google.colab.kernel.comms.open(id);\n",
              "      // Send a message to notify the kernel that we're ready.\n",
              "      channel.send({})\n",
              "\n",
              "      for await (const message of channel.messages) {\n",
              "        // Send a message to notify the kernel that we're ready.\n",
              "        channel.send({})\n",
              "        if (message.buffers) {\n",
              "          for (const buffer of message.buffers) {\n",
              "            buffers.push(buffer);\n",
              "            downloaded += buffer.byteLength;\n",
              "            progress.value = downloaded;\n",
              "          }\n",
              "        }\n",
              "      }\n",
              "      const blob = new Blob(buffers, {type: 'application/binary'});\n",
              "      const a = document.createElement('a');\n",
              "      a.href = window.URL.createObjectURL(blob);\n",
              "      a.download = filename;\n",
              "      div.appendChild(a);\n",
              "      a.click();\n",
              "      div.remove();\n",
              "    }\n",
              "  "
            ]
          },
          "metadata": {}
        },
        {
          "output_type": "display_data",
          "data": {
            "text/plain": [
              "<IPython.core.display.Javascript object>"
            ],
            "application/javascript": [
              "download(\"download_1e740b34-7fdd-415a-ac30-0038ff34c079\", \"Datos_limpios2020.csv\", 734825)"
            ]
          },
          "metadata": {}
        }
      ]
    },
    {
      "cell_type": "markdown",
      "source": [
        "# **2021**"
      ],
      "metadata": {
        "id": "bSn2ZE1wGCbW"
      }
    },
    {
      "cell_type": "code",
      "source": [
        "#cargamos un archivo desde un libro con varias páginas\n",
        "df_2021=pd.read_excel('Gastos y costos 20-23.xlsx', sheet_name='2021', skiprows=3)\n",
        "df_2021"
      ],
      "metadata": {
        "id": "RIbaY8ViGB2f"
      },
      "execution_count": null,
      "outputs": []
    },
    {
      "cell_type": "code",
      "source": [
        "df_2021.info()"
      ],
      "metadata": {
        "id": "52MBz0VKGOsu"
      },
      "execution_count": null,
      "outputs": []
    },
    {
      "cell_type": "code",
      "source": [
        "#ELIMINAR COLUMNAS de texto\n",
        "#FILTRO POR COLUMNAS\n",
        "cuantitativas2021=df_2020.iloc[:,[8,9,10,11,12,13,14]]\n",
        "cualititativas2021=df_2020.iloc[:,[0,1,2,3,4,5,6,7,15,16,17]]\n",
        "\n",
        "cuantitativas2021_1=cuantitativas2021.fillna(method=\"bfill\")\n",
        "cuanLitativas2021_1=cualititativas2021.fillna(method=\"bfill\")\n",
        "cuanLitativas2021_1['POLIZA']=cuanLitativas2021_1['POLIZA'].fillna('----')\n",
        "\n",
        "#IDENTIFICAR VALORES NULOS\n",
        "valores_nulos2021_1=cuantitativas2021_1.isnull().sum()\n",
        "print(valores_nulos2021_1)\n",
        "\n",
        "valores_nulos2021_1_1=cuanLitativas2021_1.isnull().sum()\n",
        "valores_nulos2021_1_1"
      ],
      "metadata": {
        "id": "4Jczh7ieGSBf"
      },
      "execution_count": null,
      "outputs": []
    },
    {
      "cell_type": "code",
      "source": [
        "#REALIZAMOS DIAGRAMA DE CAJA O BIGOTE DE CADA COLUMNA DEL DATAFRAME\n",
        "fig = plt.figure(figsize=(5,3))\n",
        "cuantitativas2021_1.plot(kind='box',vert=False)\n",
        "plt.title('Valores atípicos 2021')\n",
        "plt.show()"
      ],
      "metadata": {
        "id": "wLgAQpXpG5nK"
      },
      "execution_count": null,
      "outputs": []
    },
    {
      "cell_type": "code",
      "source": [
        "#Cuartiles de 0.25 y de 0.75\n",
        "y=cuantitativas2021_1\n",
        "percentile25=y.quantile(0.25) #q1\n",
        "percentile75=y.quantile(0.75) #q2\n",
        "iqr=percentile75 - percentile25\n",
        "\n",
        "Limite_Superior_iqr= percentile75 + 1.5*iqr\n",
        "Limite_Inferior_iqr= percentile25 - 1.5*iqr\n",
        "print('Límite superior permitido: ', Limite_Superior_iqr)\n",
        "print('Límite inferior permitido: ', Limite_Inferior_iqr)"
      ],
      "metadata": {
        "id": "UfDE6mo-HP44"
      },
      "execution_count": null,
      "outputs": []
    },
    {
      "cell_type": "code",
      "source": [
        "outliersiqr=cuantitativas2021_1[(y<Limite_Superior_iqr)|(y<Limite_Inferior_iqr)]\n",
        "print(outliersiqr)\n",
        "\n",
        "data3iqr2021=cuantitativas2021_1[(y<=Limite_Superior_iqr)&(y>=Limite_Inferior_iqr)]\n",
        "print(data3iqr2021)\n",
        "\n",
        "valores_nulos2021=data3iqr2021.isnull().sum()\n",
        "print(valores_nulos2021)\n",
        "\n",
        "data_clean2021_iqr=data3iqr2021.copy()\n",
        "data_clean2021_iqr=data_clean2021_iqr.fillna(round(data3iqr2021.mean(),1))"
      ],
      "metadata": {
        "id": "zVmoQAzDHZ8m"
      },
      "execution_count": null,
      "outputs": []
    },
    {
      "cell_type": "code",
      "source": [
        "valores_nulos2021_2=data_clean2021_iqr.isnull().sum()\n",
        "valores_nulos2021_2"
      ],
      "metadata": {
        "id": "0FlIe0mdIUEn",
        "colab": {
          "base_uri": "https://localhost:8080/"
        },
        "outputId": "21612924-71bd-46d0-97ce-7df8927c45e9"
      },
      "execution_count": 21,
      "outputs": [
        {
          "output_type": "execute_result",
          "data": {
            "text/plain": [
              "TC           0\n",
              "IMPORTE      0\n",
              "IVA          0\n",
              "RET ISR      0\n",
              "RET IVA      0\n",
              "TOTAL MX     0\n",
              "TOTAL SAT    0\n",
              "dtype: int64"
            ]
          },
          "metadata": {},
          "execution_count": 21
        }
      ]
    },
    {
      "cell_type": "code",
      "source": [
        "#unimos la columa 'indice_tiempo' con el df\n",
        "#la quitamos para poder hacer el procesamiento\n",
        "Datos_limpios2021=pd.concat([cuanLitativas2021_1, data_clean2021_iqr], axis=1)\n",
        "Datos_limpios2021"
      ],
      "metadata": {
        "id": "8csfzmIHIVbJ"
      },
      "execution_count": null,
      "outputs": []
    },
    {
      "cell_type": "code",
      "source": [
        "#convertimos df a csv\n",
        "Datos_limpios2021.to_csv('Datos_limpios2021.csv')\n",
        "\n",
        "#descargamos csv\n",
        "from google.colab import files\n",
        "files.download('Datos_limpios2021.csv')"
      ],
      "metadata": {
        "colab": {
          "base_uri": "https://localhost:8080/",
          "height": 17
        },
        "id": "gTEzUEfZJJ8X",
        "outputId": "6c240829-3f23-4065-8c11-002532225619"
      },
      "execution_count": 86,
      "outputs": [
        {
          "output_type": "display_data",
          "data": {
            "text/plain": [
              "<IPython.core.display.Javascript object>"
            ],
            "application/javascript": [
              "\n",
              "    async function download(id, filename, size) {\n",
              "      if (!google.colab.kernel.accessAllowed) {\n",
              "        return;\n",
              "      }\n",
              "      const div = document.createElement('div');\n",
              "      const label = document.createElement('label');\n",
              "      label.textContent = `Downloading \"${filename}\": `;\n",
              "      div.appendChild(label);\n",
              "      const progress = document.createElement('progress');\n",
              "      progress.max = size;\n",
              "      div.appendChild(progress);\n",
              "      document.body.appendChild(div);\n",
              "\n",
              "      const buffers = [];\n",
              "      let downloaded = 0;\n",
              "\n",
              "      const channel = await google.colab.kernel.comms.open(id);\n",
              "      // Send a message to notify the kernel that we're ready.\n",
              "      channel.send({})\n",
              "\n",
              "      for await (const message of channel.messages) {\n",
              "        // Send a message to notify the kernel that we're ready.\n",
              "        channel.send({})\n",
              "        if (message.buffers) {\n",
              "          for (const buffer of message.buffers) {\n",
              "            buffers.push(buffer);\n",
              "            downloaded += buffer.byteLength;\n",
              "            progress.value = downloaded;\n",
              "          }\n",
              "        }\n",
              "      }\n",
              "      const blob = new Blob(buffers, {type: 'application/binary'});\n",
              "      const a = document.createElement('a');\n",
              "      a.href = window.URL.createObjectURL(blob);\n",
              "      a.download = filename;\n",
              "      div.appendChild(a);\n",
              "      a.click();\n",
              "      div.remove();\n",
              "    }\n",
              "  "
            ]
          },
          "metadata": {}
        },
        {
          "output_type": "display_data",
          "data": {
            "text/plain": [
              "<IPython.core.display.Javascript object>"
            ],
            "application/javascript": [
              "download(\"download_3cca7c1e-b9cd-4d31-88b0-0e2db1398adf\", \"Datos_limpios2021.csv\", 710488)"
            ]
          },
          "metadata": {}
        }
      ]
    },
    {
      "cell_type": "markdown",
      "source": [
        "# **2022**"
      ],
      "metadata": {
        "id": "O7GwsAapKwOr"
      }
    },
    {
      "cell_type": "code",
      "source": [
        "#cargamos un archivo desde un libro con varias páginas\n",
        "df_2022=pd.read_excel('Gastos y costos 20-23.xlsx', sheet_name='2022', skiprows=3)\n",
        "df_2022"
      ],
      "metadata": {
        "id": "PlGNaQmXKz6P"
      },
      "execution_count": null,
      "outputs": []
    },
    {
      "cell_type": "code",
      "source": [
        "df_2022.info()"
      ],
      "metadata": {
        "colab": {
          "base_uri": "https://localhost:8080/"
        },
        "id": "Y6fMc-njLDMv",
        "outputId": "4e70a00a-62d3-4b2a-f4eb-46a1b0bbec12"
      },
      "execution_count": 88,
      "outputs": [
        {
          "output_type": "stream",
          "name": "stdout",
          "text": [
            "<class 'pandas.core.frame.DataFrame'>\n",
            "RangeIndex: 2577 entries, 0 to 2576\n",
            "Data columns (total 19 columns):\n",
            " #   Column       Non-Null Count  Dtype         \n",
            "---  ------       --------------  -----         \n",
            " 0   Fecha        2577 non-null   datetime64[ns]\n",
            " 1   Folio        2475 non-null   object        \n",
            " 2   UUID         2577 non-null   object        \n",
            " 3   RFC          2577 non-null   object        \n",
            " 4   Proveedor    2577 non-null   object        \n",
            " 5   TIPO GASTO   2577 non-null   object        \n",
            " 6   Descripción  2577 non-null   object        \n",
            " 7   MP           2024 non-null   object        \n",
            " 8   TC           1941 non-null   float64       \n",
            " 9   Importe      2577 non-null   float64       \n",
            " 10  IVA          2577 non-null   float64       \n",
            " 11  RET ISR      2577 non-null   float64       \n",
            " 12  RET IVA      2577 non-null   float64       \n",
            " 13  Otros        0 non-null      float64       \n",
            " 14  TOTAL MX     2577 non-null   float64       \n",
            " 15  TOTAL SAT    2577 non-null   float64       \n",
            " 16  Tipo         2577 non-null   object        \n",
            " 17  Status       2577 non-null   object        \n",
            " 18  Poliza       1776 non-null   object        \n",
            "dtypes: datetime64[ns](1), float64(8), object(10)\n",
            "memory usage: 382.6+ KB\n"
          ]
        }
      ]
    },
    {
      "cell_type": "code",
      "source": [
        "#ELIMINAR COLUMNAS de texto\n",
        "#FILTRO POR COLUMNAS\n",
        "cuantitativas2022=df_2022.iloc[:,[8,9,10,11,12,13,14,15]]\n",
        "cualititativas2022=df_2022.iloc[:,[0,1,2,3,4,5,6,7,16,17,18]]\n",
        "\n",
        "cuantitativas2022_1=cuantitativas2022.fillna(method=\"bfill\")\n",
        "cuanLitativas2022_1=cualititativas2022.fillna(method=\"bfill\")\n",
        "cuanLitativas2022_1['Poliza']=cuanLitativas2022_1['Poliza'].fillna('----')\n",
        "cuanLitativas2022_1['MP']=cuanLitativas2022_1['MP'].fillna('----')\n",
        "cuantitativas2022_1['TC']=cuantitativas2022_1['TC'].fillna('----')\n",
        "cuantitativas2022_1['Otros']=cuantitativas2022_1['Otros'].fillna('----')\n",
        "cuantitativas2022_2=cuantitativas2022_1"
      ],
      "metadata": {
        "id": "B1qSQvYDLHBE"
      },
      "execution_count": 89,
      "outputs": []
    },
    {
      "cell_type": "code",
      "source": [
        "#IDENTIFICAR VALORES NULOS\n",
        "valores_nulos2022_1=cuantitativas2022_2.isnull().sum()\n",
        "print(valores_nulos2022_1)\n",
        "\n",
        "valores_nulos2022_1_1=cuanLitativas2022_1.isnull().sum()\n",
        "valores_nulos2022_1_1"
      ],
      "metadata": {
        "id": "LJfGXaHrKEXe"
      },
      "execution_count": null,
      "outputs": []
    },
    {
      "cell_type": "code",
      "source": [
        "#REALIZAMOS DIAGRAMA DE CAJA O BIGOTE DE CADA COLUMNA DEL DATAFRAME\n",
        "fig = plt.figure(figsize=(5,3))\n",
        "cuantitativas2022_2.plot(kind='box',vert=False)\n",
        "plt.title('Valores atípicos 2022')\n",
        "plt.show()"
      ],
      "metadata": {
        "id": "Q7Dv3uGK3vZS"
      },
      "execution_count": null,
      "outputs": []
    },
    {
      "cell_type": "code",
      "source": [
        "#método aplicando desviación estándar. encuentro los valores extremos\n",
        "y=cuantitativas2022_1\n",
        "Limite_Superior_2022= y.mean() + 3*y.std()\n",
        "Limite_Inferior_2022= y.mean() - 3*y.std()\n",
        "print('Límite superior permitido: ', Limite_Superior_2022)\n",
        "print('Límite inferior permitido: ', Limite_Inferior_2022)\n",
        "\n",
        "#encontramos outliers del dataframe\n",
        "outliers=cuantitativas2022_1[(y<Limite_Superior_2022)|(y<Limite_Inferior_2022)]\n",
        "\n",
        "#obtenemos datos y los outliers se convierten en nulos en el dataframe\n",
        "cuantitativas2022_2=cuantitativas2022_1[(y<=Limite_Superior_2022)&(y>=Limite_Inferior_2022)]"
      ],
      "metadata": {
        "id": "l7AcAjeL31vj"
      },
      "execution_count": null,
      "outputs": []
    },
    {
      "cell_type": "code",
      "source": [
        "#corroboramos\n",
        "valores_nulos2022_2=cuantitativas2022_1.isnull().sum()\n",
        "valores_nulos2022_2"
      ],
      "metadata": {
        "id": "dsak4GKS4JNo"
      },
      "execution_count": null,
      "outputs": []
    },
    {
      "cell_type": "code",
      "source": [
        "#reemplazamos los valores ahora nulos con la media\n",
        "data_clean2022=cuantitativas2022_1.copy()\n",
        "data_clean2022=data_clean2022.fillna(round(cuantitativas2022_1.mean(),1))"
      ],
      "metadata": {
        "colab": {
          "base_uri": "https://localhost:8080/"
        },
        "id": "cEsbQSbDLVTb",
        "outputId": "1d9967dd-7735-4f8b-a78a-874bac3eed21"
      },
      "execution_count": 98,
      "outputs": [
        {
          "output_type": "stream",
          "name": "stderr",
          "text": [
            "<ipython-input-98-038c6d3f2fbe>:3: FutureWarning: The default value of numeric_only in DataFrame.mean is deprecated. In a future version, it will default to False. In addition, specifying 'numeric_only=None' is deprecated. Select only valid columns or specify the value of numeric_only to silence this warning.\n",
            "  data_clean2022=data_clean2022.fillna(round(cuantitativas2022_1.mean(),1))\n"
          ]
        }
      ]
    },
    {
      "cell_type": "code",
      "source": [
        "#corroboramos\n",
        "valores_nulos2022_3=data_clean2022.isnull().sum()\n",
        "valores_nulos2022_3"
      ],
      "metadata": {
        "id": "jLPVBT6RLdj6"
      },
      "execution_count": null,
      "outputs": []
    },
    {
      "cell_type": "code",
      "source": [
        "#unimos ambos df, lo que tienen valores cuantitativos y los que tienen cualitativos\n",
        "Datos_limpios2022=pd.concat([cuanLitativas2022_1, data_clean2022], axis=1)\n",
        "Datos_limpios2022"
      ],
      "metadata": {
        "id": "GpkQSQMd4oxo"
      },
      "execution_count": null,
      "outputs": []
    },
    {
      "cell_type": "code",
      "source": [
        "#convertimos df a csv\n",
        "Datos_limpios2022.to_csv('Datos_limpios2022.csv')\n",
        "\n",
        "#descargamos csv\n",
        "from google.colab import files\n",
        "files.download('Datos_limpios2022.csv')"
      ],
      "metadata": {
        "colab": {
          "base_uri": "https://localhost:8080/",
          "height": 17
        },
        "id": "1qkE1nSl4t_0",
        "outputId": "a458daa7-977b-4fa4-f22e-debb4db6c937"
      },
      "execution_count": 101,
      "outputs": [
        {
          "output_type": "display_data",
          "data": {
            "text/plain": [
              "<IPython.core.display.Javascript object>"
            ],
            "application/javascript": [
              "\n",
              "    async function download(id, filename, size) {\n",
              "      if (!google.colab.kernel.accessAllowed) {\n",
              "        return;\n",
              "      }\n",
              "      const div = document.createElement('div');\n",
              "      const label = document.createElement('label');\n",
              "      label.textContent = `Downloading \"${filename}\": `;\n",
              "      div.appendChild(label);\n",
              "      const progress = document.createElement('progress');\n",
              "      progress.max = size;\n",
              "      div.appendChild(progress);\n",
              "      document.body.appendChild(div);\n",
              "\n",
              "      const buffers = [];\n",
              "      let downloaded = 0;\n",
              "\n",
              "      const channel = await google.colab.kernel.comms.open(id);\n",
              "      // Send a message to notify the kernel that we're ready.\n",
              "      channel.send({})\n",
              "\n",
              "      for await (const message of channel.messages) {\n",
              "        // Send a message to notify the kernel that we're ready.\n",
              "        channel.send({})\n",
              "        if (message.buffers) {\n",
              "          for (const buffer of message.buffers) {\n",
              "            buffers.push(buffer);\n",
              "            downloaded += buffer.byteLength;\n",
              "            progress.value = downloaded;\n",
              "          }\n",
              "        }\n",
              "      }\n",
              "      const blob = new Blob(buffers, {type: 'application/binary'});\n",
              "      const a = document.createElement('a');\n",
              "      a.href = window.URL.createObjectURL(blob);\n",
              "      a.download = filename;\n",
              "      div.appendChild(a);\n",
              "      a.click();\n",
              "      div.remove();\n",
              "    }\n",
              "  "
            ]
          },
          "metadata": {}
        },
        {
          "output_type": "display_data",
          "data": {
            "text/plain": [
              "<IPython.core.display.Javascript object>"
            ],
            "application/javascript": [
              "download(\"download_bcd57b10-d941-4674-b749-ceb9de0b8e21\", \"Datos_limpios2022.csv\", 574582)"
            ]
          },
          "metadata": {}
        }
      ]
    },
    {
      "cell_type": "markdown",
      "source": [
        "# **2023**"
      ],
      "metadata": {
        "id": "JoWySJEz4_b-"
      }
    },
    {
      "cell_type": "code",
      "source": [
        "#cargamos un archivo desde un libro con varias páginas\n",
        "df_2023=pd.read_excel('Gastos y costos 20-23.xlsx', sheet_name='2023', skiprows=3)\n",
        "df_2023"
      ],
      "metadata": {
        "id": "-SuVLq_J5BTi"
      },
      "execution_count": null,
      "outputs": []
    },
    {
      "cell_type": "code",
      "source": [
        "#INFORMACION DEL DATAFRAME\n",
        "df_2023.info()"
      ],
      "metadata": {
        "colab": {
          "base_uri": "https://localhost:8080/"
        },
        "id": "Lb9NgMNo7dXN",
        "outputId": "928090eb-2d6e-442e-9f9a-173a2212fa91"
      },
      "execution_count": 75,
      "outputs": [
        {
          "output_type": "stream",
          "name": "stdout",
          "text": [
            "<class 'pandas.core.frame.DataFrame'>\n",
            "RangeIndex: 397 entries, 0 to 396\n",
            "Data columns (total 20 columns):\n",
            " #   Column       Non-Null Count  Dtype         \n",
            "---  ------       --------------  -----         \n",
            " 0   Fecha        397 non-null    datetime64[ns]\n",
            " 1   Folio        384 non-null    object        \n",
            " 2   UUID         397 non-null    object        \n",
            " 3   RFC          397 non-null    object        \n",
            " 4   Proveedor    397 non-null    object        \n",
            " 5   TIPO GASTO   389 non-null    object        \n",
            " 6   Descripción  397 non-null    object        \n",
            " 7   MP           326 non-null    object        \n",
            " 8   FP           326 non-null    float64       \n",
            " 9   TC           397 non-null    float64       \n",
            " 10  Importe      397 non-null    float64       \n",
            " 11  IVA          397 non-null    float64       \n",
            " 12  RET ISR      397 non-null    float64       \n",
            " 13  RET IVA      397 non-null    float64       \n",
            " 14  Otros        0 non-null      float64       \n",
            " 15  TOTAL MX     397 non-null    float64       \n",
            " 16  TOTAL SAT    397 non-null    float64       \n",
            " 17  Tipo         397 non-null    object        \n",
            " 18  Status       397 non-null    object        \n",
            " 19  Poliza       282 non-null    object        \n",
            "dtypes: datetime64[ns](1), float64(9), object(10)\n",
            "memory usage: 62.2+ KB\n"
          ]
        }
      ]
    },
    {
      "cell_type": "code",
      "source": [
        "#ELIMINAR COLUMNAS de texto\n",
        "#FILTRO POR COLUMNAS\n",
        "cuantitativas2023=df_2023.iloc[:,[8,9,10,11,12,13,14,15,16]]\n",
        "cualititativas2023=df_2023.iloc[:,[0,1,2,3,4,5,6,7,17,18,19]]"
      ],
      "metadata": {
        "id": "A3ohXU3k7lcK"
      },
      "execution_count": 72,
      "outputs": []
    },
    {
      "cell_type": "code",
      "source": [
        "#IDENTIFICAR VALORES NULOS\n",
        "valores_nulos2023=cuantitativas2023.isnull().sum()\n",
        "valores_nulos2023"
      ],
      "metadata": {
        "id": "lCLuuEId76uM"
      },
      "execution_count": null,
      "outputs": []
    },
    {
      "cell_type": "code",
      "source": [
        "#IDENTIFICAR VALORES NULOS\n",
        "valores_nulos2023=cualititativas2023.isnull().sum()\n",
        "valores_nulos2023"
      ],
      "metadata": {
        "id": "zoYKo22O8Amq"
      },
      "execution_count": null,
      "outputs": []
    },
    {
      "cell_type": "code",
      "source": [
        "#REMPLAZAR LOS DATOS NULOS EN AMBOS DF\n",
        "cuantitativas2023_1=cuantitativas2023.fillna(method=\"bfill\")\n",
        "cuanLitativas2023_1=cualititativas2023.fillna(method=\"ffill\")\n",
        "cuanLitativas2023_1['Poliza']=cuanLitativas2023_1['Poliza'].fillna('PE01-ENE20')\n",
        "cuanLitativas2023_1['MP']=cuanLitativas2023_1['MP'].fillna('xxx')\n",
        "cuantitativas2023_1['FP']=cuantitativas2023_1['FP'].fillna('0')\n",
        "cuantitativas2023_1['Otros']=cuantitativas2023_1['Otros'].fillna('0')\n",
        "\n",
        "\n",
        "#IDENTIFICAR VALORES NULOS\n",
        "valores_nulos2023_1=cuantitativas2023_1.isnull().sum()\n",
        "print(valores_nulos2023_1)\n",
        "\n",
        "#IDENTIFICAR VALORES NULOS\n",
        "valores_nulos2023_1_1=cuanLitativas2023_1.isnull().sum()\n",
        "valores_nulos2023_1_1"
      ],
      "metadata": {
        "id": "BSe3u9GM7_c3"
      },
      "execution_count": null,
      "outputs": []
    },
    {
      "cell_type": "code",
      "source": [
        "#REALIZAMOS DIAGRAMA DE CAJA O BIGOTE DE CADA COLUMNA DEL DATAFRAME\n",
        "fig = plt.figure(figsize=(5,3))\n",
        "cuantitativas2023_1.plot(kind='box',vert=False)\n",
        "plt.title('Valores atípicos 2023')\n",
        "plt.show()"
      ],
      "metadata": {
        "id": "qaxhwxZG8qQf"
      },
      "execution_count": null,
      "outputs": []
    },
    {
      "cell_type": "code",
      "source": [
        "#método aplicando desviación estándar. encuentro los valores extremos\n",
        "y=cuantitativas2023_1\n",
        "Limite_Superior_2023= y.mean() + 3*y.std()\n",
        "Limite_Inferior_2023= y.mean() - 3*y.std()\n",
        "print('Límite superior permitido: ', Limite_Superior_2023)\n",
        "print('Límite inferior permitido: ', Limite_Inferior_2023)\n",
        "\n",
        "#encontramos outliers del dataframe\n",
        "outliers=cuantitativas2023_1[(y<Limite_Superior_2023)|(y<Limite_Inferior_2023)]\n",
        "\n",
        "#obtenemos datos y los outliers se convierten en nulos en el dataframe\n",
        "cuantitativas2023_2=cuantitativas2023_1[(y<=Limite_Superior_2023)&(y>=Limite_Inferior_2023)]"
      ],
      "metadata": {
        "id": "v4cIcor88wrr"
      },
      "execution_count": null,
      "outputs": []
    },
    {
      "cell_type": "code",
      "source": [
        "#corroboramos\n",
        "valores_nulos2023_2=cuantitativas2023_1.isnull().sum()\n",
        "valores_nulos2023_2"
      ],
      "metadata": {
        "id": "tsP08xXy883E"
      },
      "execution_count": null,
      "outputs": []
    },
    {
      "cell_type": "code",
      "source": [
        "#reemplazamos los valores ahora nulos con la media\n",
        "data_clean2023=cuantitativas2023_1.copy()\n",
        "data_clean2023=data_clean2023.fillna(round(cuantitativas2023_1.mean(),1))"
      ],
      "metadata": {
        "colab": {
          "base_uri": "https://localhost:8080/"
        },
        "id": "H1d2WL8g9Bw8",
        "outputId": "59cbd3de-3441-46d7-8e57-ac36eb82af56"
      },
      "execution_count": 81,
      "outputs": [
        {
          "output_type": "stream",
          "name": "stderr",
          "text": [
            "<ipython-input-81-45a01a57feef>:3: FutureWarning: The default value of numeric_only in DataFrame.mean is deprecated. In a future version, it will default to False. In addition, specifying 'numeric_only=None' is deprecated. Select only valid columns or specify the value of numeric_only to silence this warning.\n",
            "  data_clean2023=data_clean2023.fillna(round(cuantitativas2023_1.mean(),1))\n"
          ]
        }
      ]
    },
    {
      "cell_type": "code",
      "source": [
        "#corroboramos\n",
        "valores_nulos2023_3=data_clean2023.isnull().sum()\n",
        "valores_nulos2023_3"
      ],
      "metadata": {
        "id": "FgEk9qYe9Hdr"
      },
      "execution_count": null,
      "outputs": []
    },
    {
      "cell_type": "code",
      "source": [
        "#unimos la columa 'indice_tiempo' con el df\n",
        "#la quitamos para poder hacer el procesamiento\n",
        "Datos_limpios2023=pd.concat([cuanLitativas2023_1, data_clean2023], axis=1)\n",
        "Datos_limpios2023"
      ],
      "metadata": {
        "id": "A8K0tc2j9LlV"
      },
      "execution_count": null,
      "outputs": []
    },
    {
      "cell_type": "code",
      "source": [
        "#convertimos df a csv\n",
        "Datos_limpios2023.to_csv('Datos_limpios2023.csv')\n",
        "\n",
        "#descargamos csv\n",
        "from google.colab import files\n",
        "files.download('Datos_limpios2023.csv')"
      ],
      "metadata": {
        "colab": {
          "base_uri": "https://localhost:8080/",
          "height": 17
        },
        "id": "P7HubI199Rru",
        "outputId": "d9515937-2915-4287-e3b0-00aed48991e4"
      },
      "execution_count": 85,
      "outputs": [
        {
          "output_type": "display_data",
          "data": {
            "text/plain": [
              "<IPython.core.display.Javascript object>"
            ],
            "application/javascript": [
              "\n",
              "    async function download(id, filename, size) {\n",
              "      if (!google.colab.kernel.accessAllowed) {\n",
              "        return;\n",
              "      }\n",
              "      const div = document.createElement('div');\n",
              "      const label = document.createElement('label');\n",
              "      label.textContent = `Downloading \"${filename}\": `;\n",
              "      div.appendChild(label);\n",
              "      const progress = document.createElement('progress');\n",
              "      progress.max = size;\n",
              "      div.appendChild(progress);\n",
              "      document.body.appendChild(div);\n",
              "\n",
              "      const buffers = [];\n",
              "      let downloaded = 0;\n",
              "\n",
              "      const channel = await google.colab.kernel.comms.open(id);\n",
              "      // Send a message to notify the kernel that we're ready.\n",
              "      channel.send({})\n",
              "\n",
              "      for await (const message of channel.messages) {\n",
              "        // Send a message to notify the kernel that we're ready.\n",
              "        channel.send({})\n",
              "        if (message.buffers) {\n",
              "          for (const buffer of message.buffers) {\n",
              "            buffers.push(buffer);\n",
              "            downloaded += buffer.byteLength;\n",
              "            progress.value = downloaded;\n",
              "          }\n",
              "        }\n",
              "      }\n",
              "      const blob = new Blob(buffers, {type: 'application/binary'});\n",
              "      const a = document.createElement('a');\n",
              "      a.href = window.URL.createObjectURL(blob);\n",
              "      a.download = filename;\n",
              "      div.appendChild(a);\n",
              "      a.click();\n",
              "      div.remove();\n",
              "    }\n",
              "  "
            ]
          },
          "metadata": {}
        },
        {
          "output_type": "display_data",
          "data": {
            "text/plain": [
              "<IPython.core.display.Javascript object>"
            ],
            "application/javascript": [
              "download(\"download_632fa000-b6d0-4c23-a2c1-178b65930045\", \"Datos_limpios2023.csv\", 88180)"
            ]
          },
          "metadata": {}
        }
      ]
    }
  ]
}